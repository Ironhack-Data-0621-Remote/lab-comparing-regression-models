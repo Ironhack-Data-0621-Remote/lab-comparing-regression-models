{
 "cells": [
  {
   "cell_type": "markdown",
   "id": "50bc5bdf",
   "metadata": {},
   "source": [
    "# Lab | Comparing regression models"
   ]
  },
  {
   "cell_type": "markdown",
   "id": "faccef1d",
   "metadata": {},
   "source": [
    "For this lab, we will be using the same dataset we used in the previous labs. We recommend using the same notebook since you will be reusing the same variables you previous created and used in labs."
   ]
  },
  {
   "cell_type": "code",
   "execution_count": 1,
   "id": "68d5e0bc",
   "metadata": {},
   "outputs": [],
   "source": [
    "import pandas as pd\n",
    "import numpy as np\n",
    "import matplotlib.pyplot as plt\n",
    "\n",
    "from sklearn.model_selection import train_test_split\n",
    "from sklearn.neighbors import KNeighborsRegressor\n",
    "from sklearn.preprocessing import StandardScaler\n",
    "from sklearn.neural_network import MLPRegressor\n",
    "from sklearn.datasets import make_regression\n",
    "from sklearn.linear_model import LinearRegression\n",
    "from sklearn.metrics import r2_score, mean_squared_error, mean_absolute_error\n",
    "\n",
    "import warnings\n",
    "warnings.filterwarnings('ignore')"
   ]
  },
  {
   "cell_type": "code",
   "execution_count": 22,
   "id": "1be0d8bf",
   "metadata": {},
   "outputs": [],
   "source": [
    "data = pd.read_csv(r'C:\\Users\\claud\\lab-cleaning-numerical-data\\files_for_lab\\we_fn_use_c_marketing_customer_value_analysis.csv')"
   ]
  },
  {
   "cell_type": "code",
   "execution_count": 23,
   "id": "b82b3e7f",
   "metadata": {},
   "outputs": [
    {
     "data": {
      "text/plain": [
       "Index(['customer', 'state', 'customer_lifetime_value', 'response', 'coverage',\n",
       "       'education', 'effective_to_date', 'employmentstatus', 'gender',\n",
       "       'income', 'location_code', 'marital_status', 'monthly_premium_auto',\n",
       "       'months_since_last_claim', 'months_since_policy_inception',\n",
       "       'number_of_open_complaints', 'number_of_policies', 'policy_type',\n",
       "       'policy', 'renew_offer_type', 'sales_channel', 'total_claim_amount',\n",
       "       'vehicle_class', 'vehicle_size'],\n",
       "      dtype='object')"
      ]
     },
     "execution_count": 23,
     "metadata": {},
     "output_type": "execute_result"
    }
   ],
   "source": [
    "data.columns = [x.lower().replace(\" \", \"_\") for x in data.columns]\n",
    "data.columns"
   ]
  },
  {
   "cell_type": "code",
   "execution_count": 24,
   "id": "5128b3f3",
   "metadata": {},
   "outputs": [],
   "source": [
    "data = data.set_index('customer')"
   ]
  },
  {
   "cell_type": "code",
   "execution_count": 25,
   "id": "0bdfa37d",
   "metadata": {},
   "outputs": [],
   "source": [
    "data['effective_to_date'] = pd.to_datetime(data['effective_to_date'])"
   ]
  },
  {
   "cell_type": "code",
   "execution_count": 26,
   "id": "30349842",
   "metadata": {},
   "outputs": [],
   "source": [
    "data['day'] = data['effective_to_date'].dt.day\n",
    "data['week'] = data['effective_to_date'].dt.week\n",
    "data['month'] = data['effective_to_date'].dt.month"
   ]
  },
  {
   "cell_type": "code",
   "execution_count": 27,
   "id": "05dd9182",
   "metadata": {},
   "outputs": [],
   "source": [
    "data['day'] = pd.to_numeric(data['day'], errors='coerce')\n",
    "data['week'] = pd.to_numeric(data['week'], errors='coerce')\n",
    "data['month'] = pd.to_numeric(data['month'], errors='coerce')"
   ]
  },
  {
   "cell_type": "code",
   "execution_count": 28,
   "id": "4de5c7df",
   "metadata": {},
   "outputs": [
    {
     "data": {
      "text/html": [
       "<div>\n",
       "<style scoped>\n",
       "    .dataframe tbody tr th:only-of-type {\n",
       "        vertical-align: middle;\n",
       "    }\n",
       "\n",
       "    .dataframe tbody tr th {\n",
       "        vertical-align: top;\n",
       "    }\n",
       "\n",
       "    .dataframe thead th {\n",
       "        text-align: right;\n",
       "    }\n",
       "</style>\n",
       "<table border=\"1\" class=\"dataframe\">\n",
       "  <thead>\n",
       "    <tr style=\"text-align: right;\">\n",
       "      <th></th>\n",
       "      <th>state</th>\n",
       "      <th>customer_lifetime_value</th>\n",
       "      <th>response</th>\n",
       "      <th>coverage</th>\n",
       "      <th>education</th>\n",
       "      <th>employmentstatus</th>\n",
       "      <th>gender</th>\n",
       "      <th>income</th>\n",
       "      <th>location_code</th>\n",
       "      <th>marital_status</th>\n",
       "      <th>...</th>\n",
       "      <th>policy_type</th>\n",
       "      <th>policy</th>\n",
       "      <th>renew_offer_type</th>\n",
       "      <th>sales_channel</th>\n",
       "      <th>total_claim_amount</th>\n",
       "      <th>vehicle_class</th>\n",
       "      <th>vehicle_size</th>\n",
       "      <th>day</th>\n",
       "      <th>week</th>\n",
       "      <th>month</th>\n",
       "    </tr>\n",
       "    <tr>\n",
       "      <th>customer</th>\n",
       "      <th></th>\n",
       "      <th></th>\n",
       "      <th></th>\n",
       "      <th></th>\n",
       "      <th></th>\n",
       "      <th></th>\n",
       "      <th></th>\n",
       "      <th></th>\n",
       "      <th></th>\n",
       "      <th></th>\n",
       "      <th></th>\n",
       "      <th></th>\n",
       "      <th></th>\n",
       "      <th></th>\n",
       "      <th></th>\n",
       "      <th></th>\n",
       "      <th></th>\n",
       "      <th></th>\n",
       "      <th></th>\n",
       "      <th></th>\n",
       "      <th></th>\n",
       "    </tr>\n",
       "  </thead>\n",
       "  <tbody>\n",
       "    <tr>\n",
       "      <th>BU79786</th>\n",
       "      <td>Washington</td>\n",
       "      <td>2763.519279</td>\n",
       "      <td>No</td>\n",
       "      <td>Basic</td>\n",
       "      <td>Bachelor</td>\n",
       "      <td>Employed</td>\n",
       "      <td>F</td>\n",
       "      <td>56274</td>\n",
       "      <td>Suburban</td>\n",
       "      <td>Married</td>\n",
       "      <td>...</td>\n",
       "      <td>Corporate Auto</td>\n",
       "      <td>Corporate L3</td>\n",
       "      <td>Offer1</td>\n",
       "      <td>Agent</td>\n",
       "      <td>384.811147</td>\n",
       "      <td>Two-Door Car</td>\n",
       "      <td>Medsize</td>\n",
       "      <td>24</td>\n",
       "      <td>8</td>\n",
       "      <td>2</td>\n",
       "    </tr>\n",
       "    <tr>\n",
       "      <th>QZ44356</th>\n",
       "      <td>Arizona</td>\n",
       "      <td>6979.535903</td>\n",
       "      <td>No</td>\n",
       "      <td>Extended</td>\n",
       "      <td>Bachelor</td>\n",
       "      <td>Unemployed</td>\n",
       "      <td>F</td>\n",
       "      <td>0</td>\n",
       "      <td>Suburban</td>\n",
       "      <td>Single</td>\n",
       "      <td>...</td>\n",
       "      <td>Personal Auto</td>\n",
       "      <td>Personal L3</td>\n",
       "      <td>Offer3</td>\n",
       "      <td>Agent</td>\n",
       "      <td>1131.464935</td>\n",
       "      <td>Four-Door Car</td>\n",
       "      <td>Medsize</td>\n",
       "      <td>31</td>\n",
       "      <td>5</td>\n",
       "      <td>1</td>\n",
       "    </tr>\n",
       "    <tr>\n",
       "      <th>AI49188</th>\n",
       "      <td>Nevada</td>\n",
       "      <td>12887.431650</td>\n",
       "      <td>No</td>\n",
       "      <td>Premium</td>\n",
       "      <td>Bachelor</td>\n",
       "      <td>Employed</td>\n",
       "      <td>F</td>\n",
       "      <td>48767</td>\n",
       "      <td>Suburban</td>\n",
       "      <td>Married</td>\n",
       "      <td>...</td>\n",
       "      <td>Personal Auto</td>\n",
       "      <td>Personal L3</td>\n",
       "      <td>Offer1</td>\n",
       "      <td>Agent</td>\n",
       "      <td>566.472247</td>\n",
       "      <td>Two-Door Car</td>\n",
       "      <td>Medsize</td>\n",
       "      <td>19</td>\n",
       "      <td>7</td>\n",
       "      <td>2</td>\n",
       "    </tr>\n",
       "    <tr>\n",
       "      <th>WW63253</th>\n",
       "      <td>California</td>\n",
       "      <td>7645.861827</td>\n",
       "      <td>No</td>\n",
       "      <td>Basic</td>\n",
       "      <td>Bachelor</td>\n",
       "      <td>Unemployed</td>\n",
       "      <td>M</td>\n",
       "      <td>0</td>\n",
       "      <td>Suburban</td>\n",
       "      <td>Married</td>\n",
       "      <td>...</td>\n",
       "      <td>Corporate Auto</td>\n",
       "      <td>Corporate L2</td>\n",
       "      <td>Offer1</td>\n",
       "      <td>Call Center</td>\n",
       "      <td>529.881344</td>\n",
       "      <td>SUV</td>\n",
       "      <td>Medsize</td>\n",
       "      <td>20</td>\n",
       "      <td>3</td>\n",
       "      <td>1</td>\n",
       "    </tr>\n",
       "    <tr>\n",
       "      <th>HB64268</th>\n",
       "      <td>Washington</td>\n",
       "      <td>2813.692575</td>\n",
       "      <td>No</td>\n",
       "      <td>Basic</td>\n",
       "      <td>Bachelor</td>\n",
       "      <td>Employed</td>\n",
       "      <td>M</td>\n",
       "      <td>43836</td>\n",
       "      <td>Rural</td>\n",
       "      <td>Single</td>\n",
       "      <td>...</td>\n",
       "      <td>Personal Auto</td>\n",
       "      <td>Personal L1</td>\n",
       "      <td>Offer1</td>\n",
       "      <td>Agent</td>\n",
       "      <td>138.130879</td>\n",
       "      <td>Four-Door Car</td>\n",
       "      <td>Medsize</td>\n",
       "      <td>3</td>\n",
       "      <td>5</td>\n",
       "      <td>2</td>\n",
       "    </tr>\n",
       "  </tbody>\n",
       "</table>\n",
       "<p>5 rows × 25 columns</p>\n",
       "</div>"
      ],
      "text/plain": [
       "               state  customer_lifetime_value response  coverage education  \\\n",
       "customer                                                                     \n",
       "BU79786   Washington              2763.519279       No     Basic  Bachelor   \n",
       "QZ44356      Arizona              6979.535903       No  Extended  Bachelor   \n",
       "AI49188       Nevada             12887.431650       No   Premium  Bachelor   \n",
       "WW63253   California              7645.861827       No     Basic  Bachelor   \n",
       "HB64268   Washington              2813.692575       No     Basic  Bachelor   \n",
       "\n",
       "         employmentstatus gender  income location_code marital_status  ...  \\\n",
       "customer                                                               ...   \n",
       "BU79786          Employed      F   56274      Suburban        Married  ...   \n",
       "QZ44356        Unemployed      F       0      Suburban         Single  ...   \n",
       "AI49188          Employed      F   48767      Suburban        Married  ...   \n",
       "WW63253        Unemployed      M       0      Suburban        Married  ...   \n",
       "HB64268          Employed      M   43836         Rural         Single  ...   \n",
       "\n",
       "             policy_type        policy  renew_offer_type  sales_channel  \\\n",
       "customer                                                                  \n",
       "BU79786   Corporate Auto  Corporate L3            Offer1          Agent   \n",
       "QZ44356    Personal Auto   Personal L3            Offer3          Agent   \n",
       "AI49188    Personal Auto   Personal L3            Offer1          Agent   \n",
       "WW63253   Corporate Auto  Corporate L2            Offer1    Call Center   \n",
       "HB64268    Personal Auto   Personal L1            Offer1          Agent   \n",
       "\n",
       "          total_claim_amount  vehicle_class vehicle_size day week  month  \n",
       "customer                                                                  \n",
       "BU79786           384.811147   Two-Door Car      Medsize  24    8      2  \n",
       "QZ44356          1131.464935  Four-Door Car      Medsize  31    5      1  \n",
       "AI49188           566.472247   Two-Door Car      Medsize  19    7      2  \n",
       "WW63253           529.881344            SUV      Medsize  20    3      1  \n",
       "HB64268           138.130879  Four-Door Car      Medsize   3    5      2  \n",
       "\n",
       "[5 rows x 25 columns]"
      ]
     },
     "execution_count": 28,
     "metadata": {},
     "output_type": "execute_result"
    }
   ],
   "source": [
    "data = data.drop(['effective_to_date'], axis=1)\n",
    "data.head()"
   ]
  },
  {
   "cell_type": "code",
   "execution_count": 29,
   "id": "bdb84a68",
   "metadata": {},
   "outputs": [],
   "source": [
    "data = pd.get_dummies(data, drop_first=True)"
   ]
  },
  {
   "cell_type": "code",
   "execution_count": 30,
   "id": "094f2e49",
   "metadata": {},
   "outputs": [
    {
     "data": {
      "text/plain": [
       "customer_lifetime_value           float64\n",
       "income                              int64\n",
       "monthly_premium_auto                int64\n",
       "months_since_last_claim             int64\n",
       "months_since_policy_inception       int64\n",
       "number_of_open_complaints           int64\n",
       "number_of_policies                  int64\n",
       "total_claim_amount                float64\n",
       "day                                 int64\n",
       "week                                int64\n",
       "month                               int64\n",
       "state_California                    uint8\n",
       "state_Nevada                        uint8\n",
       "state_Oregon                        uint8\n",
       "state_Washington                    uint8\n",
       "response_Yes                        uint8\n",
       "coverage_Extended                   uint8\n",
       "coverage_Premium                    uint8\n",
       "education_College                   uint8\n",
       "education_Doctor                    uint8\n",
       "education_High School or Below      uint8\n",
       "education_Master                    uint8\n",
       "employmentstatus_Employed           uint8\n",
       "employmentstatus_Medical Leave      uint8\n",
       "employmentstatus_Retired            uint8\n",
       "employmentstatus_Unemployed         uint8\n",
       "gender_M                            uint8\n",
       "location_code_Suburban              uint8\n",
       "location_code_Urban                 uint8\n",
       "marital_status_Married              uint8\n",
       "marital_status_Single               uint8\n",
       "policy_type_Personal Auto           uint8\n",
       "policy_type_Special Auto            uint8\n",
       "policy_Corporate L2                 uint8\n",
       "policy_Corporate L3                 uint8\n",
       "policy_Personal L1                  uint8\n",
       "policy_Personal L2                  uint8\n",
       "policy_Personal L3                  uint8\n",
       "policy_Special L1                   uint8\n",
       "policy_Special L2                   uint8\n",
       "policy_Special L3                   uint8\n",
       "renew_offer_type_Offer2             uint8\n",
       "renew_offer_type_Offer3             uint8\n",
       "renew_offer_type_Offer4             uint8\n",
       "sales_channel_Branch                uint8\n",
       "sales_channel_Call Center           uint8\n",
       "sales_channel_Web                   uint8\n",
       "vehicle_class_Luxury Car            uint8\n",
       "vehicle_class_Luxury SUV            uint8\n",
       "vehicle_class_SUV                   uint8\n",
       "vehicle_class_Sports Car            uint8\n",
       "vehicle_class_Two-Door Car          uint8\n",
       "vehicle_size_Medsize                uint8\n",
       "vehicle_size_Small                  uint8\n",
       "dtype: object"
      ]
     },
     "execution_count": 30,
     "metadata": {},
     "output_type": "execute_result"
    }
   ],
   "source": [
    "data.dtypes"
   ]
  },
  {
   "cell_type": "markdown",
   "id": "2f38d5b3",
   "metadata": {},
   "source": [
    "### 1. In this final lab, we will model our data. Import sklearn train_test_split and separate the data.\n"
   ]
  },
  {
   "cell_type": "code",
   "execution_count": 31,
   "id": "e42f6530",
   "metadata": {},
   "outputs": [],
   "source": [
    "y = data['total_claim_amount']\n",
    "X = data.drop(['total_claim_amount'],axis=1)"
   ]
  },
  {
   "cell_type": "code",
   "execution_count": 35,
   "id": "78099df1",
   "metadata": {},
   "outputs": [],
   "source": [
    "transformer = StandardScaler().fit(data)\n",
    "\n",
    "x_standardized = transformer.transform(data)\n",
    "x_standardized = pd.DataFrame(x_standardized, index = data.index)#, columns = ['customer_lifetime_value', 'income', 'monthly_premium_auto',\n",
    "       #'months_since_last_claim', 'months_since_policy_inception',\n",
    "       #'number_of_open_complaints', 'number_of_policies',\n",
    "       #'total_claim_amount'])"
   ]
  },
  {
   "cell_type": "code",
   "execution_count": 36,
   "id": "071a37c0",
   "metadata": {},
   "outputs": [],
   "source": [
    "X = x_standardized"
   ]
  },
  {
   "cell_type": "code",
   "execution_count": 37,
   "id": "09485eea",
   "metadata": {},
   "outputs": [],
   "source": [
    "X_train, X_test, y_train, y_test = train_test_split(X, y, test_size=0.3, random_state=42)"
   ]
  },
  {
   "cell_type": "markdown",
   "id": "df7949a5",
   "metadata": {},
   "source": [
    "### 2. Try a simple linear regression with all the data to see whether we are getting good results."
   ]
  },
  {
   "cell_type": "code",
   "execution_count": 38,
   "id": "947a8b4b",
   "metadata": {},
   "outputs": [
    {
     "data": {
      "text/plain": [
       "LinearRegression()"
      ]
     },
     "execution_count": 38,
     "metadata": {},
     "output_type": "execute_result"
    }
   ],
   "source": [
    "model = LinearRegression()\n",
    "model.fit(X_train, y_train)"
   ]
  },
  {
   "cell_type": "code",
   "execution_count": 39,
   "id": "88be841d",
   "metadata": {},
   "outputs": [],
   "source": [
    "predictions = model.predict(X_test)"
   ]
  },
  {
   "cell_type": "code",
   "execution_count": 40,
   "id": "a59a3dab",
   "metadata": {},
   "outputs": [
    {
     "data": {
      "text/plain": [
       "(1.0, 2.94915010568832e-13, 3.843506696994419e-13)"
      ]
     },
     "execution_count": 40,
     "metadata": {},
     "output_type": "execute_result"
    }
   ],
   "source": [
    "r2_score(y_test, predictions), mean_absolute_error(y_test, predictions), mean_squared_error(y_test, predictions, squared=False)"
   ]
  },
  {
   "cell_type": "markdown",
   "id": "c57a17d8",
   "metadata": {},
   "source": [
    "### 3. Great! Now define a function that takes a list of models and train (and tests) them so we can try a lot of them without repeating code."
   ]
  },
  {
   "cell_type": "code",
   "execution_count": 47,
   "id": "b095dbc8",
   "metadata": {},
   "outputs": [],
   "source": [
    "def models(model_name, X, y, KNN_range = range(2,10)):\n",
    "    X_train, X_test, y_train, y_test = train_test_split(X, y, test_size=0.3, random_state=42)\n",
    "\n",
    "    if model_name == 'LinearRegression':\n",
    "        model = LinearRegression()\n",
    "        model.fit(X_train, y_train) \n",
    "        predictions = model.predict(X_test)\n",
    "        print('R2 score =', r2_score(y_test, predictions))\n",
    "\n",
    "    if model_name == 'KNN':\n",
    "        scores = []\n",
    "        for i in KNN_range:\n",
    "            model = KNeighborsRegressor(n_neighbors=i)\n",
    "            model.fit(X_train, y_train)\n",
    "            scores.append(model.score(X_test, y_test))\n",
    "        print(scores)\n",
    "\n",
    "        plt.figure(figsize=(10,6))\n",
    "        plt.plot(KNN_range,scores,color = 'darkslategrey', linestyle='dashdot',\n",
    "        marker='o', markerfacecolor='darkcyan', markersize=10)\n",
    "        plt.title('accuracy scores vs. K Value')\n",
    "        plt.xlabel('K')\n",
    "        plt.ylabel('Accuracy')\n",
    "    \n",
    "    if model_name == 'MLP':\n",
    "        model = MLPRegressor()\n",
    "        model.fit(X_train, y_train)\n",
    "\n",
    "        expected_y  = y_test\n",
    "        predicted_y = model.predict(X_test)\n",
    "        print('R2 score =',r2_score(expected_y, predicted_y))"
   ]
  },
  {
   "cell_type": "markdown",
   "id": "f592e218",
   "metadata": {},
   "source": [
    "### 4. Use the function to check LinearRegressor and KNeighborsRegressor."
   ]
  },
  {
   "cell_type": "code",
   "execution_count": 42,
   "id": "cfb65b4b",
   "metadata": {},
   "outputs": [
    {
     "name": "stdout",
     "output_type": "stream",
     "text": [
      "R2 score = 1.0\n"
     ]
    }
   ],
   "source": [
    "models('LinearRegression', X, y)"
   ]
  },
  {
   "cell_type": "code",
   "execution_count": 45,
   "id": "1ec7290e",
   "metadata": {},
   "outputs": [
    {
     "name": "stdout",
     "output_type": "stream",
     "text": [
      "[0.696016943990347, 0.7302882705107913, 0.7461926073178331, 0.7509089120711043, 0.7548339068787251, 0.7603485434445362, 0.7585738788178724, 0.7527295679482957]\n"
     ]
    },
    {
     "data": {
      "image/png": "[encoded data removed]",
      "text/plain": [
       "<Figure size 720x432 with 1 Axes>"
      ]
     },
     "metadata": {
      "needs_background": "light"
     },
     "output_type": "display_data"
    }
   ],
   "source": [
    "models('KNN', X, y)"
   ]
  },
  {
   "cell_type": "markdown",
   "id": "bc0d3e63",
   "metadata": {},
   "source": [
    "### 5. You can check also the MLPRegressor for this task!"
   ]
  },
  {
   "cell_type": "code",
   "execution_count": 48,
   "id": "3283e967",
   "metadata": {},
   "outputs": [
    {
     "name": "stdout",
     "output_type": "stream",
     "text": [
      "R2 score = 0.9959792628123999\n"
     ]
    }
   ],
   "source": [
    "models('MLP',X,y)"
   ]
  },
  {
   "cell_type": "markdown",
   "id": "55161677",
   "metadata": {},
   "source": [
    "### 6. Check and discuss the results."
   ]
  },
  {
   "cell_type": "markdown",
   "id": "1402fd6e",
   "metadata": {},
   "source": [
    "All models seems overfitted:\n",
    "\n",
    "- The Linear Regression is overfitted, therefore we got r2 score = 1\n",
    "- KNN presented best performance when k = 7 (score = 0.76)\n",
    "- MLP Regressor also seems overfitted with r2 score = 0.99"
   ]
  }
 ],
 "metadata": {
  "kernelspec": {
   "display_name": "Python 3",
   "language": "python",
   "name": "python3"
  },
  "language_info": {
   "codemirror_mode": {
    "name": "ipython",
    "version": 3
   },
   "file_extension": ".py",
   "mimetype": "text/x-python",
   "name": "python",
   "nbconvert_exporter": "python",
   "pygments_lexer": "ipython3",
   "version": "3.8.8"
  }
 },
 "nbformat": 4,
 "nbformat_minor": 5
}
